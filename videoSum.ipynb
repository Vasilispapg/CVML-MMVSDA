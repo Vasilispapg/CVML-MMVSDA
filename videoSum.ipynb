{
 "cells": [
  {
   "cell_type": "code",
   "execution_count": 82,
   "metadata": {},
   "outputs": [],
   "source": [
    "import cv2\n",
    "from sklearn.cluster import KMeans\n",
    "from keras.applications.vgg16 import VGG16, preprocess_input\n",
    "from tensorflow.keras.preprocessing.image import img_to_array\n",
    "import numpy as np\n",
    "import pandas as pd\n",
    "import os\n",
    "from math import floor,sqrt\n",
    "from moviepy.editor import VideoFileClip\n",
    "import librosa\n",
    "from sklearn.preprocessing import StandardScaler, LabelEncoder\n",
    "import h5py\n",
    "from sklearn.metrics import precision_score, recall_score, f1_score\n",
    "import objectDetection as od\n"
   ]
  },
  {
   "cell_type": "markdown",
   "metadata": {},
   "source": [
    "## Video Summarization"
   ]
  },
  {
   "cell_type": "markdown",
   "metadata": {},
   "source": [
    "### Annotations loader"
   ]
  },
  {
   "cell_type": "code",
   "execution_count": 83,
   "metadata": {},
   "outputs": [],
   "source": [
    "# Load annotations\n",
    "def load_annotations(anno_file, info_file):\n",
    "    # Read the annotation and info files\n",
    "    annotations = pd.read_csv(anno_file, sep='\\t', header=None)\n",
    "    info = pd.read_csv(info_file, sep='\\t', header=None)\n",
    "    \n",
    "    # Rename columns for better understanding\n",
    "    annotations.columns = ['video_id', 'category', 'importance_score']\n",
    "    info.columns = ['category_code', 'video_id', 'title', 'url', 'length']\n",
    "    \n",
    "    # print( annotations, info)\n",
    "    \n",
    "    return annotations, info"
   ]
  },
  {
   "cell_type": "markdown",
   "metadata": {},
   "source": [
    "### Preprocessing and Feature Extraction\n"
   ]
  },
  {
   "cell_type": "markdown",
   "metadata": {},
   "source": [
    "#### a. Video Processing and Frame Extraction\n"
   ]
  },
  {
   "cell_type": "code",
   "execution_count": 84,
   "metadata": {},
   "outputs": [],
   "source": [
    "def extract_frames(video_path, frame_rate=1):\n",
    "    video = cv2.VideoCapture(video_path)\n",
    "    count = 0\n",
    "    success = True\n",
    "    frames = []\n",
    "    \n",
    "    while success:\n",
    "        success, image = video.read()\n",
    "        if count % frame_rate == 0 and success:\n",
    "            frames.append(image)\n",
    "        count += 1\n",
    "\n",
    "    video.release()\n",
    "    return frames"
   ]
  },
  {
   "cell_type": "markdown",
   "metadata": {},
   "source": [
    "#### b. Audio Extraction\n"
   ]
  },
  {
   "cell_type": "code",
   "execution_count": 85,
   "metadata": {},
   "outputs": [],
   "source": [
    "\n",
    "def extract_audio_from_video(video_path, output_audio_path):\n",
    "    video = VideoFileClip(video_path)\n",
    "    audio = video.audio\n",
    "    audio.write_audiofile(output_audio_path)\n",
    "    video.close()"
   ]
  },
  {
   "cell_type": "markdown",
   "metadata": {},
   "source": [
    "#### c.Audio Features"
   ]
  },
  {
   "cell_type": "code",
   "execution_count": 86,
   "metadata": {},
   "outputs": [],
   "source": [
    "def extract_audio_features_for_each_frame(audio_path, frame_rate):\n",
    "    y, sr = librosa.load(audio_path)\n",
    "\n",
    "    # Calculate the number of audio samples per video frame\n",
    "    samples_per_frame = sr / frame_rate\n",
    "\n",
    "    # Initialize an array to store MFCCs for each frame\n",
    "    mfccs_per_frame = []\n",
    "\n",
    "    # Iterate over each frame and extract corresponding MFCCs\n",
    "    for frame in range(int(len(y) / samples_per_frame)):\n",
    "        start_sample = int(frame * samples_per_frame)\n",
    "        end_sample = int((frame + 1) * samples_per_frame)\n",
    "\n",
    "        # Ensure the end sample does not exceed the audio length\n",
    "        end_sample = min(end_sample, len(y))\n",
    "\n",
    "        # Extract MFCCs for the current frame's audio segment\n",
    "        mfccs_current_frame = librosa.feature.mfcc(y=y[start_sample:end_sample], sr=sr, n_mfcc=13)\n",
    "        mfccs_processed = np.mean(mfccs_current_frame.T, axis=0)\n",
    "        mfccs_per_frame.append(mfccs_processed)\n",
    "    print(np.array(mfccs_per_frame).shape)\n",
    "\n",
    "    return mfccs_per_frame[:len(mfccs_per_frame)-1]\n"
   ]
  },
  {
   "cell_type": "markdown",
   "metadata": {},
   "source": [
    "#### d. Feature Extraction (example with visual features using a CNN)\n"
   ]
  },
  {
   "cell_type": "code",
   "execution_count": 87,
   "metadata": {},
   "outputs": [],
   "source": [
    "model = VGG16(weights='imagenet', include_top=False)\n",
    "\n",
    "def extract_visual_features(frames):\n",
    "    features = []\n",
    "    for frame in frames:\n",
    "        if frame is not None:\n",
    "            img = cv2.resize(frame, (224, 224))  # Resize frame to 224x224\n",
    "            img = img_to_array(img)        # Convert to array\n",
    "            img = np.expand_dims(img, axis=0)    # Add batch dimension\n",
    "            img = preprocess_input(img)          # Preprocess for VGG16\n",
    "            \n",
    "            feature = model.predict(img,use_multiprocessing=True,workers=4)\n",
    "            features.append(feature.flatten())\n",
    "\n",
    "    return features"
   ]
  },
  {
   "cell_type": "markdown",
   "metadata": {},
   "source": [
    "### Connect Audio/Annotation/Video"
   ]
  },
  {
   "cell_type": "markdown",
   "metadata": {},
   "source": [
    "#### Annotation To List"
   ]
  },
  {
   "cell_type": "code",
   "execution_count": 88,
   "metadata": {},
   "outputs": [],
   "source": [
    "def annotation2List(annotation_features):\n",
    "    # Make the string '1,1,1,3,2,2,4,4,1' to float list\n",
    "    annotation_float_array=[]\n",
    "    for annotation in annotation_features:\n",
    "        \n",
    "        if isinstance(annotation,str):\n",
    "            annotation = annotation.split(',')\n",
    "        if isinstance(annotation,list):\n",
    "            for anno in annotation:\n",
    "                annotation_float_array.append(float(anno))\n",
    "        else:\n",
    "            annotation_float_array.append(float(annotation))\n",
    "    return annotation_float_array"
   ]
  },
  {
   "cell_type": "markdown",
   "metadata": {},
   "source": [
    "#### Extract Data"
   ]
  },
  {
   "cell_type": "code",
   "execution_count": 89,
   "metadata": {},
   "outputs": [],
   "source": [
    "import pickle\n",
    "with open('objects.pkl', 'rb') as f:\n",
    "    objects = pickle.load(f)\n",
    "\n",
    "with open('frames.pkl', 'rb') as f:\n",
    "    frames = pickle.load(f)\n",
    "\n",
    "with open('labels.pkl', 'rb') as f:\n",
    "    labels = pickle.load(f)"
   ]
  },
  {
   "cell_type": "code",
   "execution_count": 90,
   "metadata": {},
   "outputs": [],
   "source": [
    "def extractData(video_path, anno_file, info_file):\n",
    "    # Extract frames from the video\n",
    "    frames = extract_frames(video_path)\n",
    "    # print('frames',len(frames)) \n",
    "\n",
    "    # # Extract visual features\n",
    "    visual_features = extract_visual_features(frames) #type: ignore\n",
    "\n",
    "    # Extract audio\n",
    "    audio_output_path = 'datasets/extractedAudio/extracted_audio.wav'\n",
    "    extract_audio_from_video(video_path, audio_output_path) \n",
    "\n",
    "    # Extract audio features\n",
    "    audio_features = extract_audio_features_for_each_frame(audio_output_path,30)\n",
    "\n",
    "    # # Load annotations\n",
    "    # annotations, info = load_annotations(anno_file, info_file)\n",
    "    \n",
    "    return visual_features, frames,audio_features#type: ignore\n"
   ]
  },
  {
   "cell_type": "markdown",
   "metadata": {},
   "source": [
    "#### Kmeans and feature connection"
   ]
  },
  {
   "cell_type": "markdown",
   "metadata": {},
   "source": [
    "##### One Hot Encoding"
   ]
  },
  {
   "cell_type": "code",
   "execution_count": 91,
   "metadata": {},
   "outputs": [],
   "source": [
    "def one_hot_encode(objects_in_frame, unique_objects):\n",
    "    \"\"\"\n",
    "    Convert a list of objects detected in a frame to a one-hot encoded vector.\n",
    "    \n",
    "    Args:\n",
    "    objects_in_frame: List of objects detected in a frame.\n",
    "    unique_objects: List of all unique objects across all frames.\n",
    "\n",
    "    Returns:\n",
    "    One-hot encoded vector representing the presence of objects in the frame.\n",
    "    \"\"\"\n",
    "    encoding = [1 if obj in objects_in_frame else 0 for obj in unique_objects]\n",
    "    return np.array(encoding)\n"
   ]
  },
  {
   "cell_type": "markdown",
   "metadata": {},
   "source": [
    "##### Kmeans"
   ]
  },
  {
   "cell_type": "code",
   "execution_count": 92,
   "metadata": {},
   "outputs": [],
   "source": [
    "def MultiModalKMeans(video_path, anno_file, info_file, num_clusters=None):\n",
    "    \"\"\"\n",
    "    Integrate visual, audio, and annotation features from a video,\n",
    "    and perform clustering on the combined features.\n",
    "\n",
    "    :param video_path: Path to the video file.\n",
    "    :param anno_file: Path to the annotation file.\n",
    "    :param info_file: Path to the info file.\n",
    "    :param num_clusters: Number of clusters to use in KMeans.\n",
    "    :return: Cluster labels for each data point.\n",
    "    \"\"\"\n",
    "    \n",
    "    # Extract data from video\n",
    "    visual_features,frames,audio_features=extractData(video_path, anno_file, info_file)\n",
    "        \n",
    "    objects = od.detect_objects_in_all_frames(frames,yolo_model,classes) #type: ignore\n",
    "            \n",
    "    unique_objects = sorted(list(set([obj for frame_objects in objects for obj in frame_objects]))) #type: ignore\n",
    "\n",
    "    encoded_objects = [one_hot_encode(frame_objects, unique_objects) for frame_objects in objects] #type: ignore\n",
    "\n",
    "    # Combine features with padding\n",
    "    combined_features = []\n",
    "\n",
    "    for i, frame in enumerate(frames):\n",
    "        \n",
    "        # annotation_float_array = annotation2List(annotation_features[i])\n",
    "        \n",
    "        combined_feature = np.concatenate([\n",
    "            np.array(visual_features[i], dtype=float),\n",
    "            np.array(audio_features[i], dtype=float),\n",
    "            np.array(encoded_objects[i], dtype=float),\n",
    "        ])\n",
    "        combined_features.append(combined_feature)\n",
    "\n",
    "    # Convert to 2D NumPy array and normalize\n",
    "    combined_features_array = np.array(combined_features)\n",
    "    \n",
    "    combined_features_normalized = StandardScaler().fit_transform(combined_features_array)\n",
    "         \n",
    "    print(\"Number of clusters:\", num_clusters)\n",
    "    \n",
    "    # Perform clustering\n",
    "    print(\"Performing clustering...\")\n",
    "    kmeans = KMeans(n_clusters=num_clusters) #type: ignore\n",
    "    kmeans.fit(combined_features_normalized)\n",
    "    \n",
    "    return [frames, kmeans.labels_]\n",
    "    # return the frames and the labels\n"
   ]
  },
  {
   "cell_type": "markdown",
   "metadata": {},
   "source": [
    "### Summarization"
   ]
  },
  {
   "cell_type": "markdown",
   "metadata": {},
   "source": [
    "#### Find min cluster"
   ]
  },
  {
   "cell_type": "code",
   "execution_count": 93,
   "metadata": {},
   "outputs": [],
   "source": [
    "from collections import Counter\n",
    "def getMinClusster(labels):\n",
    "    cluster_counts = Counter(labels)\n",
    "\n",
    "    # Find the cluster with the maximum number of frames\n",
    "    return min(cluster_counts, key=cluster_counts.get),cluster_counts #type: ignore"
   ]
  },
  {
   "cell_type": "markdown",
   "metadata": {},
   "source": [
    "#### Frames Selection"
   ]
  },
  {
   "cell_type": "code",
   "execution_count": 156,
   "metadata": {},
   "outputs": [],
   "source": [
    "def frame_selection(frames, labels):\n",
    "    \"\"\"\n",
    "    Create a summary by selecting frames from the most populous cluster.\n",
    "\n",
    "    :param frames: List of frames.\n",
    "    :param labels: Cluster labels for each frame.\n",
    "    :return: List of frames belonging to the most populous cluster.\n",
    "    \"\"\"\n",
    "    # Count the number of frames in each cluster\n",
    "    max_cluster,cluster_counts = getMinClusster(labels)\n",
    "\n",
    "    # Initialize lists for indices and frames\n",
    "    summary_indices = []  # to measure the importance based on annotation\n",
    "    summary_frames = []\n",
    "\n",
    "    # Iterate and select frames and their indices belonging to the most populous cluster\n",
    "    for index, (frame, label) in enumerate(zip(frames, labels)):\n",
    "        if label == max_cluster:\n",
    "            summary_indices.append(index)\n",
    "            summary_frames.append(frame)\n",
    "\n",
    "    print(f\"Number of frames selected for summary: {len(summary_frames)}, Cluster: {max_cluster}\")\n",
    "    # print all clusters len\n",
    "    print(f\"Cluster counts: {cluster_counts}\")\n",
    "    return summary_frames,summary_indices\n",
    "\n",
    "def frameSelectionForEachCluster(frames):\n",
    "    \"\"\"\n",
    "    Create a summary by selecting frames from the most populous cluster.\n",
    "\n",
    "    :param frames: List of frames.\n",
    "    :param labels: Cluster labels for each frame.\n",
    "    :return: List of frames belonging to the most populous cluster.\n",
    "    \"\"\"\n",
    "    # Initialize lists for indices and frames\n",
    "    summary_indices = []  # to measure the importance based on annotation\n",
    "    summary_frames = []\n",
    "\n",
    "    # Iterate and select frames and their indices belonging to the most populous cluster\n",
    "    for index, (frame) in enumerate(frames):\n",
    "        summary_indices.append(index)\n",
    "        summary_frames.append(frame)\n",
    "\n",
    "    print(f\"Number of frames selected for summary: {len(summary_frames)}\")\n",
    "    # print all clusters len\n",
    "    # print(f\"Cluster counts: {cluster_counts}\")\n",
    "    return summary_frames,summary_indices"
   ]
  },
  {
   "cell_type": "markdown",
   "metadata": {},
   "source": [
    "#### Video Creator"
   ]
  },
  {
   "cell_type": "code",
   "execution_count": 95,
   "metadata": {},
   "outputs": [],
   "source": [
    "def create_video_from_frames(frames, output_path, frame_rate=30):\n",
    "    if not frames:\n",
    "        print(\"No frames to create a video.\")\n",
    "        return \n",
    "    # Determine the width and height from the first frame\n",
    "    height, width, layers = frames[0].shape\n",
    "\n",
    "    # Define the codec and create VideoWriter object\n",
    "    fourcc = cv2.VideoWriter_fourcc(*'mp4v')#type: ignore\n",
    "    out = cv2.VideoWriter(output_path, fourcc, frame_rate, (width, height))#type: ignore\n",
    "\n",
    "    # Write each frame to the video\n",
    "    for frame in frames:\n",
    "        out.write(frame)\n",
    "\n",
    "    # Release the VideoWriter object\n",
    "    out.release()"
   ]
  },
  {
   "cell_type": "markdown",
   "metadata": {},
   "source": [
    "#### Load .Mat file"
   ]
  },
  {
   "cell_type": "code",
   "execution_count": 96,
   "metadata": {},
   "outputs": [],
   "source": [
    "def decode_titles(encoded_titles, hdf5_file):\n",
    "    decoded_titles = []\n",
    "    for ref_array in encoded_titles:\n",
    "        # Handle the case where each ref_array might contain multiple references\n",
    "        for ref in ref_array:\n",
    "            # Dereference each HDF5 object reference to get the actual data\n",
    "            title_data = hdf5_file[ref]\n",
    "            # Decode the title\n",
    "            decoded_title = ''.join(chr(char[0]) for char in title_data)\n",
    "            decoded_titles.append(decoded_title)\n",
    "    return decoded_titles\n",
    "\n",
    "\n",
    "def load_mat_file(file_path,videoID):\n",
    "    \"\"\"\n",
    "    Load a .mat file and return its contents.\n",
    "\n",
    "    :param file_path: Path to the .mat file.\n",
    "    :return: Contents of the .mat file.\n",
    "    \"\"\"\n",
    "    with h5py.File(file_path, 'r') as file:\n",
    "        user_anno_refs=file['tvsum50']['user_anno'][:] # type: ignore\n",
    "        video_refs=file['tvsum50']['video'][:] # type: ignore\n",
    "\n",
    "        decoded_videos = decode_titles(video_refs,file)\n",
    "    \n",
    "        annotations = []        \n",
    "        # Get the index from decoded video list to find the annotation for the video\n",
    "        index = [i for i, x in enumerate(decoded_videos) if x.lower() in videoID.lower()][0]\n",
    "        \n",
    "        # Iterate over each reference\n",
    "        for ref in user_anno_refs: # type: ignore\n",
    "            # Dereference each HDF5 object reference\n",
    "            ref_data = file[ref[0]]\n",
    "\n",
    "            # Convert to NumPy array and add to the annotations list\n",
    "            annotations.append(np.array(ref_data))\n",
    "            \n",
    "        return annotations[index]"
   ]
  },
  {
   "cell_type": "markdown",
   "metadata": {},
   "source": [
    "#### f1score with ground_truth"
   ]
  },
  {
   "cell_type": "code",
   "execution_count": 168,
   "metadata": {},
   "outputs": [],
   "source": [
    "def evaluate_frame_selection(ground_truth, summary_indices):\n",
    "    \"\"\"\n",
    "    Evaluate the selected frames by comparing them with the ground truth.\n",
    "    \n",
    "    Args:\n",
    "    ground_truth: Ground truth annotations.\n",
    "    summary_indices: Indices of the selected frames.\n",
    "    \n",
    "    Returns:\n",
    "    Average importance score, max importance score, and proportion of frames with high importance score.\n",
    "    \"\"\"\n",
    "    \n",
    "    # Evaluate the selected frames\n",
    "    selected_importance_scores = ground_truth[summary_indices]\n",
    "    \n",
    "    # Calculate metrics\n",
    "    if selected_importance_scores.size == 0:\n",
    "        average_importance = 0\n",
    "        max_importance = 0\n",
    "        proportion_high_importance = 0\n",
    "    else:\n",
    "        average_importance = np.mean(selected_importance_scores)  # Average importance score\n",
    "        max_importance = np.max(selected_importance_scores)  # Max importance score\n",
    "        # Calculate the proportion of frames with high importance score\n",
    "        proportion_high_importance = np.mean(selected_importance_scores >= np.floor(max_importance))\n",
    "        \n",
    "    return average_importance, max_importance,proportion_high_importance\n"
   ]
  },
  {
   "cell_type": "code",
   "execution_count": 204,
   "metadata": {},
   "outputs": [],
   "source": [
    "def Evaluation(ground_truth_path,summary_indices,videoID):\n",
    "    \n",
    "    # Get the ground_truth\n",
    "    ground_truth = np.array(load_mat_file(ground_truth_path, videoID))\n",
    "    \n",
    "    # Find the mean of all annotators\n",
    "    gold_standard = np.mean(ground_truth, axis=0)\n",
    "    \n",
    "    # based on annotators find the avg_importance, max_importance, prop_high_importance\n",
    "    avg_importance, max_importance, prop_high_importance = evaluate_frame_selection(gold_standard, summary_indices)\n",
    "\n",
    "    # Thresholding based on max_importance\n",
    "    threshold=floor(np.mean(max_importance))\n",
    "    \n",
    "    \n",
    "    # Binary conversion\n",
    "    binary_ground_truth = np.where(gold_standard >= threshold, 1, 0) \n",
    "    \n",
    "    # Selected frames binary conversion\n",
    "    selected_frames_binary = np.zeros_like(binary_ground_truth)\n",
    "    selected_frames_binary[summary_indices] = 1\n",
    "    \n",
    "    # Calculate metrics\n",
    "    precision = precision_score(binary_ground_truth, selected_frames_binary)\n",
    "    recall = recall_score(binary_ground_truth, selected_frames_binary)\n",
    "    f1 = f1_score(binary_ground_truth, selected_frames_binary, average='binary')\n",
    "    \n",
    "    # return metrics\n",
    "    return threshold,precision,recall,f1,avg_importance,max_importance,prop_high_importance\n"
   ]
  },
  {
   "cell_type": "markdown",
   "metadata": {},
   "source": [
    "#### KnapSack"
   ]
  },
  {
   "cell_type": "code",
   "execution_count": 99,
   "metadata": {},
   "outputs": [],
   "source": [
    "def knapsack_for_video_summary(values, weights, capacity, scale_factor=30):\n",
    "    \"\"\"\n",
    "    Apply the 0/1 Knapsack algorithm to select video segments for summarization.\n",
    "\n",
    "    :param values: List of importance scores for each segment.\n",
    "    :param weights: List of durations for each segment in seconds.\n",
    "    :param capacity: Maximum total duration for the summary in seconds.\n",
    "    :param scale_factor: Factor to scale weights to integers.\n",
    "    :return: Indices of the segments to include in the summary.\n",
    "    \"\"\"\n",
    "    # Scale weights and capacity\n",
    "    weights = [int(w * scale_factor) for w in weights]\n",
    "    capacity = int(capacity * scale_factor)\n",
    "\n",
    "    n = len(values)\n",
    "    K = [[0 for _ in range(capacity + 1)] for _ in range(n + 1)]\n",
    "\n",
    "    # Build table K[][] in a bottom-up manner\n",
    "    for i in range(n + 1):\n",
    "        for w in range(capacity + 1):\n",
    "            if i == 0 or w == 0:\n",
    "                K[i][w] = 0\n",
    "            elif weights[i-1] <= w:\n",
    "                K[i][w] = max(values[i-1] + K[i-1][w-weights[i-1]], K[i-1][w])\n",
    "            else:\n",
    "                K[i][w] = K[i-1][w]\n",
    "\n",
    "    # Find the selected segments\n",
    "    res = K[n][capacity]\n",
    "    w = capacity\n",
    "    selected_indices = []\n",
    "\n",
    "    for i in range(n, 0, -1):\n",
    "        if res <= 0:\n",
    "            break\n",
    "        if res == K[i-1][w]:\n",
    "            continue\n",
    "        else:\n",
    "            selected_indices.append(i-1)\n",
    "            res = res - values[i-1]\n",
    "            w = w - weights[i-1]\n",
    "\n",
    "    selected_indices.reverse()\n",
    "    return selected_indices\n"
   ]
  },
  {
   "cell_type": "markdown",
   "metadata": {},
   "source": [
    "### importance score"
   ]
  },
  {
   "cell_type": "code",
   "execution_count": 166,
   "metadata": {},
   "outputs": [],
   "source": [
    "def calculate_importance_scores(labels, detected_objects):\n",
    "    \"\"\"Here the importance for all the labels together..\n",
    "\n",
    "    Args:\n",
    "        labels (_type_): _description_\n",
    "        detected_objects (_type_): _description_\n",
    "\n",
    "    Returns:\n",
    "        _type_: _description_\n",
    "    \"\"\"\n",
    "    # Count the frequency of each label\n",
    "    label_counts = Counter(labels)\n",
    "\n",
    "    # Assign a basic importance score based on the inverse frequency of cluster labels\n",
    "    base_importance_scores = [1 / label_counts[label] for label in labels]\n",
    "\n",
    "    # Additional importance based on detected objects\n",
    "    object_importance_scores = []\n",
    "    for objects in detected_objects:\n",
    "        if objects:  # if the list is not empty\n",
    "            # Add extra importance for each detected object\n",
    "            # You can customize this part based on the type and number of objects\n",
    "            object_importance_scores.append(len(objects))\n",
    "        else:\n",
    "            object_importance_scores.append(0)\n",
    "\n",
    "    # Combine base importance scores with object importance scores\n",
    "    # Normalize object importance scores for simplicity\n",
    "    max_object_score = max(object_importance_scores) if object_importance_scores else 1\n",
    "    normalized_object_scores = [score / max_object_score for score in object_importance_scores]\n",
    "\n",
    "    # Final importance score is a combination of base and object scores\n",
    "    importance_scores = [base + obj for base, obj in zip(base_importance_scores, normalized_object_scores)]\n",
    "    \n",
    "    print(\"Average importance score:\", np.mean(importance_scores))\n",
    "    \n",
    "    return importance_scores\n",
    "\n",
    "\n",
    "def calculate_importance_scores_for_cluster(cluster_frames, detected_objects_per_frame):\n",
    "    \"\"\"Here the importance for each frame based on objects in frame\n",
    "\n",
    "    Args:\n",
    "        cluster_dict (_type_): _description_\n",
    "        detected_objects_per_frame (_type_): _description_\n",
    "\n",
    "    Returns:\n",
    "        _type_: _description_\n",
    "    \"\"\"\n",
    "    # Initialize importance scores for the cluster\n",
    "    importance_scores = []\n",
    "\n",
    "    # Calculate object-based importance for each frame in the cluster\n",
    "    for frame_index in cluster_frames:\n",
    "        # Calculate object importance\n",
    "        objects = detected_objects_per_frame[frame_index]\n",
    "        object_importance = len(objects) if objects else 0\n",
    "\n",
    "        # Add object importance to the list\n",
    "        importance_scores.append(object_importance)\n",
    "\n",
    "    # Normalize the importance scores\n",
    "    max_importance = max(importance_scores, default=1)\n",
    "    if max_importance == 0:\n",
    "        max_importance = 1  # To prevent division by zero\n",
    "\n",
    "    normalized_importance_scores = [score / max_importance for score in importance_scores]\n",
    "\n",
    "    return normalized_importance_scores\n"
   ]
  },
  {
   "cell_type": "markdown",
   "metadata": {},
   "source": [
    "### Map labels with frames"
   ]
  },
  {
   "cell_type": "code",
   "execution_count": 161,
   "metadata": {},
   "outputs": [],
   "source": [
    "def map_frames_to_labels_with_indices(frames, labels):\n",
    "    label_frame_dict = {}\n",
    "    for label, (frame_index, frame) in zip(labels, enumerate(frames)):\n",
    "        if label not in label_frame_dict:\n",
    "            label_frame_dict[label] = []\n",
    "        label_frame_dict[label].append((frame_index, frame))\n",
    "    return label_frame_dict\n"
   ]
  },
  {
   "cell_type": "markdown",
   "metadata": {},
   "source": [
    "# Code to create summary video"
   ]
  },
  {
   "cell_type": "markdown",
   "metadata": {},
   "source": [
    "#### Variables"
   ]
  },
  {
   "cell_type": "code",
   "execution_count": 101,
   "metadata": {},
   "outputs": [],
   "source": [
    "annotation_path='datasets/ydata-tvsum50-v1_1/data/ydata-tvsum50-anno.tsv'\n",
    "info_path='datasets/ydata-tvsum50-v1_1/data/ydata-tvsum50-info.tsv'"
   ]
  },
  {
   "cell_type": "code",
   "execution_count": 102,
   "metadata": {},
   "outputs": [],
   "source": [
    "video_path='datasets/ydata-tvsum50-v1_1/video/'\n",
    "summary_video_path='datasets/summary_videos/'"
   ]
  },
  {
   "cell_type": "code",
   "execution_count": 103,
   "metadata": {},
   "outputs": [],
   "source": [
    "ground_truth_path='datasets/ydata-tvsum50-v1_1/ground_truth/ydata-tvsum50.mat'"
   ]
  },
  {
   "cell_type": "markdown",
   "metadata": {},
   "source": [
    "##### Get the list of the videos in the folder"
   ]
  },
  {
   "cell_type": "code",
   "execution_count": 104,
   "metadata": {},
   "outputs": [],
   "source": [
    "video_list = [video for video in os.listdir(video_path) if video.endswith('.mp4')]  # List comprehension"
   ]
  },
  {
   "cell_type": "markdown",
   "metadata": {},
   "source": [
    "##### Yolo Model"
   ]
  },
  {
   "cell_type": "code",
   "execution_count": 105,
   "metadata": {},
   "outputs": [],
   "source": [
    "yolo_model = cv2.dnn.readNetFromDarknet('yolo/yolov3.cfg', 'yolo/yolov3.weights') #type:ignore\n",
    "\n",
    "with open(\"yolo/coco.names\", \"r\") as f:\n",
    "    classes = [line.strip() for line in f.readlines()]"
   ]
  },
  {
   "cell_type": "code",
   "execution_count": 106,
   "metadata": {},
   "outputs": [],
   "source": [
    "frame_rate = 30  # or whatever your frame rate is\n",
    "frame_duration = 1 / frame_rate  # Duration of each frame in seconds\n",
    "capacity = 15  # 15 seconds summary"
   ]
  },
  {
   "cell_type": "markdown",
   "metadata": {},
   "source": [
    "#### Function for videoSummarizion"
   ]
  },
  {
   "cell_type": "code",
   "execution_count": 202,
   "metadata": {},
   "outputs": [],
   "source": [
    "\n",
    "def videoSumm(annotation_path=None, info_path=None, video_path=None, summary_video_path=None,video_list=None):\n",
    "    for video in video_list: #type: ignore\n",
    "        \n",
    "        # Kmeans clustering\n",
    "        # frames,labels = MultiModalKMeans(video_path+video, annotation_path, info_path,num_clusters=11)\n",
    "\n",
    "        \"\"\" USE THIS IN CASE OF CREATING VIDEO FOR EACH CLUSTER\"\"\"\n",
    "        cluster_dict = map_frames_to_labels_with_indices(frames, labels)\n",
    "\n",
    "        scores = []\n",
    "        for index, cluster in cluster_dict.items():\n",
    "            print(\"Cluster:\", index)\n",
    "            # Extract just the frame indices for importance score calculation\n",
    "            cluster_frame_indices = [frame_index for frame_index, _ in cluster]\n",
    "\n",
    "            # Calculate importance scores for this cluster\n",
    "            importance = calculate_importance_scores_for_cluster(cluster_frame_indices, objects) # Adjust your function as necessary\n",
    "\n",
    "            # Create a list of durations, one for each frame in the cluster\n",
    "            durations = [frame_duration] * len(importance)\n",
    "\n",
    "            # Apply the knapsack algorithm\n",
    "            summary_indices = knapsack_for_video_summary(importance, durations, capacity)\n",
    "\n",
    "            # Select Representative Frames (extracting frame part from each tuple)\n",
    "            summary_frames = [cluster[i][1] for i in summary_indices]  # [1] extracts the frame from (frame_index, frame)\n",
    "\n",
    "            # Create Summary Video\n",
    "            create_video_from_frames(summary_frames, f\"{summary_video_path}{index}-{video}\", 30)\n",
    "\n",
    "            # Extract original indices for evaluation\n",
    "            original_indices_for_eval = [cluster[i][0] for i in summary_indices]  # [0] extracts the original frame index\n",
    "\n",
    "            # Evaluate\n",
    "            ev = Evaluation(ground_truth_path, original_indices_for_eval, video.split('.')[0])\n",
    "            scores.append((str(index),) + ev)\n",
    "            print()\n",
    "\n",
    "        # Print the table of scores\n",
    "        from tabulate import tabulate\n",
    "        scores.sort(key=lambda x: x[3], reverse=True)\n",
    "        print(tabulate(scores, headers=['videoID','Threshold','Precision', 'Recall', 'F1', 'Avg_importance', 'Max_importance', 'Prop_high_importance'], tablefmt='fancy_grid'))\n",
    "        return\n",
    "    \n",
    "        \"\"\"\n",
    "        USE THIS IN CASE OF ONE CLUSTER\n",
    "        importance=calculate_importance_scores(labels,objects) #type: ignore\n",
    "                \n",
    "        # Create a list of durations, one for each frame\n",
    "        durations = [frame_duration] * len(importance)\n",
    "        \n",
    "        # Apply the knapsack algorithm\n",
    "        summary_indices = knapsack_for_video_summary(importance, durations, capacity)\n",
    "\n",
    "        # Extract summary frames based on 'summary_indices'\n",
    "        summary_frames = [frames[i] for i in summary_indices] #type: ignore\n",
    "        \n",
    "        create_video_from_frames(summary_frames, summary_video_path+video,30) # Create a video from the selected frames\n",
    "        \n",
    "        Evaluation(ground_truth_path,summary_indices,video.split('.')[0])\n",
    "        break\n",
    "        \"\"\""
   ]
  },
  {
   "cell_type": "markdown",
   "metadata": {},
   "source": [
    "### Function for object detection"
   ]
  },
  {
   "cell_type": "markdown",
   "metadata": {},
   "source": [
    "### Code for dynamic annotation and video summarization"
   ]
  },
  {
   "cell_type": "code",
   "execution_count": 205,
   "metadata": {},
   "outputs": [
    {
     "name": "stdout",
     "output_type": "stream",
     "text": [
      "Cluster: 6\n",
      "threshold 2\n",
      "precision: 0.43777777777777777\n",
      "recall: 0.061949685534591195\n",
      "f1: 0.10853994490358128\n",
      "avg_importance: 1.9233333333333333\n",
      "max_importance: 2.4\n",
      "prop_high_importance: 0.43777777777777777\n",
      "\n",
      "Cluster: 2\n",
      "threshold 3\n",
      "precision: 0.16793893129770993\n",
      "recall: 0.10476190476190476\n",
      "f1: 0.12903225806451613\n",
      "avg_importance: 2.613740458015267\n",
      "max_importance: 3.0\n",
      "prop_high_importance: 0.16793893129770993\n",
      "\n",
      "Cluster: 9\n",
      "threshold 2\n",
      "precision: 1.0\n",
      "recall: 0.03270440251572327\n",
      "f1: 0.06333739342265529\n",
      "avg_importance: 2.6024038461538463\n",
      "max_importance: 2.7\n",
      "prop_high_importance: 1.0\n",
      "\n",
      "Cluster: 8\n",
      "threshold 3\n",
      "precision: 0.8212290502793296\n",
      "recall: 0.7\n",
      "f1: 0.7557840616966581\n",
      "avg_importance: 3.061312849162012\n",
      "max_importance: 3.35\n",
      "prop_high_importance: 0.8212290502793296\n",
      "\n",
      "Cluster: 10\n",
      "threshold 2\n",
      "precision: 0.1927710843373494\n",
      "recall: 0.005031446540880503\n",
      "f1: 0.009806926141587496\n",
      "avg_importance: 1.9367469879518076\n",
      "max_importance: 2.45\n",
      "prop_high_importance: 0.1927710843373494\n",
      "\n",
      "Cluster: 3\n",
      "No frames to create a video.\n",
      "threshold 0\n",
      "precision: 0.0\n",
      "recall: 0.0\n",
      "f1: 0.0\n",
      "avg_importance: 0\n",
      "max_importance: 0\n",
      "prop_high_importance: 0\n",
      "\n",
      "Cluster: 7\n",
      "threshold 1\n",
      "precision: 1.0\n",
      "recall: 0.015769675925925927\n",
      "f1: 0.031049708018800744\n",
      "avg_importance: 1.5\n",
      "max_importance: 1.65\n",
      "prop_high_importance: 1.0\n",
      "\n",
      "Cluster: 5\n",
      "threshold 2\n",
      "precision: 0.12\n",
      "recall: 0.016981132075471698\n",
      "f1: 0.029752066115702483\n",
      "avg_importance: 1.6260000000000001\n",
      "max_importance: 2.0\n",
      "prop_high_importance: 0.12\n",
      "\n",
      "Cluster: 1\n",
      "threshold 2\n",
      "precision: 0.008888888888888889\n",
      "recall: 0.0012578616352201257\n",
      "f1: 0.0022038567493112946\n",
      "avg_importance: 1.4473333333333331\n",
      "max_importance: 2.15\n",
      "prop_high_importance: 0.008888888888888889\n",
      "\n",
      "Cluster: 4\n",
      "threshold 2\n",
      "precision: 1.0\n",
      "recall: 0.09716981132075472\n",
      "f1: 0.177128116938951\n",
      "avg_importance: 2.1362459546925567\n",
      "max_importance: 2.4\n",
      "prop_high_importance: 1.0\n",
      "\n",
      "Cluster: 0\n",
      "threshold 1\n",
      "precision: 1.0\n",
      "recall: 0.023148148148148147\n",
      "f1: 0.04524886877828054\n",
      "avg_importance: 1.48125\n",
      "max_importance: 1.5\n",
      "prop_high_importance: 1.0\n",
      "\n",
      "╒═══════════╤═════════════╤═════════════╤════════════╤════════════╤══════════════════╤══════════════════╤════════════════════════╕\n",
      "│   videoID │   Threshold │   Precision │     Recall │         F1 │   Avg_importance │   Max_importance │   Prop_high_importance │\n",
      "╞═══════════╪═════════════╪═════════════╪════════════╪════════════╪══════════════════╪══════════════════╪════════════════════════╡\n",
      "│         8 │           3 │  0.821229   │ 0.7        │ 0.755784   │          3.06131 │             3.35 │             0.821229   │\n",
      "├───────────┼─────────────┼─────────────┼────────────┼────────────┼──────────────────┼──────────────────┼────────────────────────┤\n",
      "│         2 │           3 │  0.167939   │ 0.104762   │ 0.129032   │          2.61374 │             3    │             0.167939   │\n",
      "├───────────┼─────────────┼─────────────┼────────────┼────────────┼──────────────────┼──────────────────┼────────────────────────┤\n",
      "│         4 │           2 │  1          │ 0.0971698  │ 0.177128   │          2.13625 │             2.4  │             1          │\n",
      "├───────────┼─────────────┼─────────────┼────────────┼────────────┼──────────────────┼──────────────────┼────────────────────────┤\n",
      "│         6 │           2 │  0.437778   │ 0.0619497  │ 0.10854    │          1.92333 │             2.4  │             0.437778   │\n",
      "├───────────┼─────────────┼─────────────┼────────────┼────────────┼──────────────────┼──────────────────┼────────────────────────┤\n",
      "│         9 │           2 │  1          │ 0.0327044  │ 0.0633374  │          2.6024  │             2.7  │             1          │\n",
      "├───────────┼─────────────┼─────────────┼────────────┼────────────┼──────────────────┼──────────────────┼────────────────────────┤\n",
      "│         0 │           1 │  1          │ 0.0231481  │ 0.0452489  │          1.48125 │             1.5  │             1          │\n",
      "├───────────┼─────────────┼─────────────┼────────────┼────────────┼──────────────────┼──────────────────┼────────────────────────┤\n",
      "│         5 │           2 │  0.12       │ 0.0169811  │ 0.0297521  │          1.626   │             2    │             0.12       │\n",
      "├───────────┼─────────────┼─────────────┼────────────┼────────────┼──────────────────┼──────────────────┼────────────────────────┤\n",
      "│         7 │           1 │  1          │ 0.0157697  │ 0.0310497  │          1.5     │             1.65 │             1          │\n",
      "├───────────┼─────────────┼─────────────┼────────────┼────────────┼──────────────────┼──────────────────┼────────────────────────┤\n",
      "│        10 │           2 │  0.192771   │ 0.00503145 │ 0.00980693 │          1.93675 │             2.45 │             0.192771   │\n",
      "├───────────┼─────────────┼─────────────┼────────────┼────────────┼──────────────────┼──────────────────┼────────────────────────┤\n",
      "│         1 │           2 │  0.00888889 │ 0.00125786 │ 0.00220386 │          1.44733 │             2.15 │             0.00888889 │\n",
      "├───────────┼─────────────┼─────────────┼────────────┼────────────┼──────────────────┼──────────────────┼────────────────────────┤\n",
      "│         3 │           0 │  0          │ 0          │ 0          │          0       │             0    │             0          │\n",
      "╘═══════════╧═════════════╧═════════════╧════════════╧════════════╧══════════════════╧══════════════════╧════════════════════════╛\n"
     ]
    }
   ],
   "source": [
    "videoSumm(annotation_path, info_path, video_path, summary_video_path, video_list)"
   ]
  },
  {
   "cell_type": "markdown",
   "metadata": {},
   "source": [
    "# Results"
   ]
  },
  {
   "cell_type": "markdown",
   "metadata": {},
   "source": [
    "## After Video call, using gold_standard"
   ]
  },
  {
   "cell_type": "markdown",
   "metadata": {},
   "source": [
    "Try | Precision | Recall | Weighted F1 | Avg Importance | Max Importance | Proportion High Importance | Clusters |\n",
    "|---|-----------|--------|-------------|----------------|----------------|----------------------------|----------|\n",
    "|1  | 1.0       | 0.40379050925925924  | 0.5752859940224|1.86316732353995|3.05| 0.02149767108563239   | 9        |\n",
    "|2  | 1.0       |0.3392650462962963    |0.50664362104353|1.89402985074626|2.85|0.4597014925373134     |11        |"
   ]
  },
  {
   "cell_type": "markdown",
   "metadata": {},
   "source": [
    "## Using Only visual_features"
   ]
  },
  {
   "cell_type": "markdown",
   "metadata": {},
   "source": [
    "### All results was based on frame extraction with frame_rate=25"
   ]
  },
  {
   "cell_type": "markdown",
   "metadata": {},
   "source": [
    "#### Results using sqrt(N) = 16 Clusters\n",
    "\n",
    "| Annotator | Precision | Recall | Weighted F1 | Avg Importance | Max Importance | Proportion High Importance |\n",
    "|-----------|-----------|--------|-------------|----------------|----------------|----------------------------|\n",
    "| 2         | 0.941     | 0.063  | 0.345       | 3.338          | 5              | 0.131                      |\n",
    "| 8         | 1.0       | 0.065  | 0.339       | 4.0            | 4              | 1.0                        |\n",
    "| 12        | 0.766     | 0.052  | 0.337       | 2.111          | 3              | 0.131                      |\n",
    "| 10        | 1.0       | 0.065  | 0.332       | 3.507          | 4              | 0.507                      |\n",
    "| 0         | 0.469     | 0.031  | 0.292       | 1.735          | 3              | 0.131                      |\n",
    "| 1         | 0.473     | 0.03   | 0.274       | 1.394          | 2              | 0.394                      |\n",
    "| 9         | 0.0       | 0.0    | 0.222       | 1.0            | 1              | 1.0                        |\n",
    "| 3         | 1.0       | 0.037  | 0.071       | 2.511          | 4              | 0.019                      |\n",
    "| 4         | 1.0       | 0.037  | 0.071       | 1.0            | 1              | 1.0                        |\n",
    "| 5         | 1.0       | 0.037  | 0.071       | 2.0            | 2              | 1.0                        |\n",
    "| 6         | 1.0       | 0.037  | 0.071       | 1.393          | 4              | 0.131                      |\n",
    "| 7         | 1.0       | 0.037  | 0.071       | 1.0            | 1              | 1.0                        |\n",
    "| 11        | 1.0       | 0.037  | 0.071       | 3.617          | 5              | 0.131                      |\n",
    "| 13        | 1.0       | 0.037  | 0.071       | 1.0            | 1              | 1.0                        |\n",
    "| 14        | 1.0       | 0.037  | 0.071       | 1.0            | 1              | 1.0                        |\n",
    "| 15        | 1.0       | 0.037  | 0.071       | 4.0            | 4              | 1.0                        |\n",
    "| 16        | 1.0       | 0.037  | 0.071       | 1.0            | 1              | 1.0                        |\n",
    "| 17        | 1.0       | 0.037  | 0.071       | 2.0            | 2              | 1.0                        |\n",
    "| 18        | 1.0       | 0.037  | 0.071       | 1.0            | 1              | 1.0                        |\n",
    "| 19        | 1.0       | 0.037  | 0.071       | 2.0            | 2              | 1.0                        |\n"
   ]
  },
  {
   "cell_type": "markdown",
   "metadata": {},
   "source": [
    "#### Results using 11 Clusters\n",
    "\n",
    "| Annotator | Precision | Recall | Weighted F1 | Avg Importance | Max Importance | Proportion High Importance |\n",
    "|-----------|-----------|--------|-------------|----------------|----------------|----------------------------|\n",
    "| 2         | 0.941     | 0.063  | 0.345       | 3.315          | 5              | 0.117                      |\n",
    "| 8         | 1.0       | 0.065  | 0.339       | 4.0            | 4              | 1.0                        |\n",
    "| 12        | 0.766     | 0.052  | 0.337       | 2.099          | 3              | 0.117                      |\n",
    "| 10        | 1.0       | 0.065  | 0.332       | 3.499          | 4              | 0.499                      |\n",
    "| 0         | 0.469     | 0.031  | 0.292       | 1.718          | 3              | 0.117                      |\n",
    "| 1         | 0.473     | 0.03   | 0.274       | 1.396          | 2              | 0.396                      |\n",
    "| 9         | 0.0       | 0.0    | 0.222       | 1.0            | 1              | 1.0                        |\n",
    "| 3         | 1.0       | 0.037  | 0.071       | 2.516          | 4              | 0.018                      |\n",
    "| 4         | 1.0       | 0.037  | 0.071       | 1.0            | 1              | 1.0                        |\n",
    "| 5         | 1.0       | 0.037  | 0.071       | 2.0            | 2              | 1.0                        |\n",
    "| 6         | 1.0       | 0.037  | 0.071       | 1.355          | 4              | 0.117                      |\n",
    "| 7         | 1.0       | 0.037  | 0.071       | 1.0            | 1              | 1.0                        |\n",
    "| 11        | 1.0       | 0.037  | 0.071       | 3.595          | 5              | 0.117                      |\n",
    "| 13        | 1.0       | 0.037  | 0.071       | 1.0            | 1              | 1.0                        |\n",
    "| 14        | 1.0       | 0.037  | 0.071       | 1.0            | 1              | 1.0                        |\n",
    "| 15        | 1.0       | 0.037  | 0.071       | 4.0            | 4              | 1.0                        |\n",
    "| 16        | 1.0       | 0.037  | 0.071       | 1.0            | 1              | 1.0                        |\n",
    "| 17        | 1.0       | 0.037  | 0.071       | 2.0            | 2              | 1.0                        |\n",
    "| 18        | 1.0       | 0.037  | 0.071       | 1.0            | 1              | 1.0                        |\n",
    "| 19        | 1.0       | 0.037  | 0.071       | 2.0            | 2              | 1.0                        |\n"
   ]
  },
  {
   "cell_type": "markdown",
   "metadata": {},
   "source": [
    "#### Results using 7 Clusters\n",
    "\n",
    "| Annotator | Precision | Recall | Weighted F1 | Avg Importance | Max Importance | Proportion High Importance |\n",
    "|-----------|-----------|--------|-------------|----------------|----------------|----------------------------|\n",
    "| 2         | 0.941     | 0.063  | 0.345       | 3.351          | 5              | 0.134                      |\n",
    "| 8         | 1.0       | 0.065  | 0.339       | 4.0            | 4              | 1.0                        |\n",
    "| 12        | 0.766     | 0.052  | 0.337       | 2.115          | 3              | 0.134                      |\n",
    "| 10        | 1.0       | 0.065  | 0.332       | 3.504          | 4              | 0.504                      |\n",
    "| 0         | 0.469     | 0.031  | 0.292       | 1.744          | 3              | 0.134                      |\n",
    "| 1         | 0.473     | 0.03   | 0.274       | 1.386          | 2              | 0.386                      |\n",
    "| 9         | 0.0       | 0.0    | 0.222       | 1.0            | 1              | 1.0                        |\n",
    "| 3         | 1.0       | 0.037  | 0.071       | 2.511          | 4              | 0.019                      |\n",
    "| 4         | 1.0       | 0.037  | 0.071       | 1.0            | 1              | 1.0                        |\n",
    "| 5         | 1.0       | 0.037  | 0.071       | 2.0            | 2              | 1.0                        |\n",
    "| 6         | 1.0       | 0.037  | 0.071       | 1.405          | 4              | 0.134                      |\n",
    "| 7         | 1.0       | 0.037  | 0.071       | 1.0            | 1              | 1.0                        |\n",
    "| 11        | 1.0       | 0.037  | 0.071       | 3.615          | 5              | 0.134                      |\n",
    "| 13        | 1.0       | 0.037  | 0.071       | 1.0            | 1              | 1.0                        |\n",
    "| 14        | 1.0       | 0.037  | 0.071       | 1.0            | 1              | 1.0                        |\n",
    "| 15        | 1.0       | 0.037  | 0.071       | 4.0            | 4              | 1.0                        |\n",
    "| 16        | 1.0       | 0.037  | 0.071       | 1.0            | 1              | 1.0                        |\n",
    "| 17        | 1.0       | 0.037  | 0.071       | 2.0            | 2              | 1.0                        |\n",
    "| 18        | 1.0       | 0.037  | 0.071       | 1.0            | 1              | 1.0                        |\n",
    "| 19        | 1.0       | 0.037  | 0.071       | 2.0            | 2              | 1.0                        |"
   ]
  },
  {
   "cell_type": "markdown",
   "metadata": {},
   "source": [
    "### All results was based on frame extraction with frame_rate=1"
   ]
  },
  {
   "cell_type": "markdown",
   "metadata": {},
   "source": [
    "#### Using sqrt(N) = 83 clusters\n",
    "| Annotator | Precision | Recall | Weighted F1 | Avg Importance | Max Importance | Proportion High Importance |\n",
    "|-----------|-----------|--------|-------------|----------------|----------------|----------------------------|\n",
    "|     12    |   0.587   |  0.053 |    0.332    |     2.27       |       5        |          0.091             |\n",
    "|     2     |   0.622   |  0.055 |    0.327    |     1.839      |       4        |          0.109             |\n",
    "|     8     |   0.434   |  0.038 |    0.294    |     1.801      |       5        |          0.041             |\n",
    "|     10    |   0.463   |  0.04  |    0.29     |     1.894      |       4        |          0.111             |\n",
    "|     1     |   0.522   |  0.044 |    0.289    |     1.604      |       5        |          0.021             |\n",
    "|     0     |   0.246   |  0.022 |    0.273    |     1.378      |       3        |          0.132             |\n",
    "|     9     |   0.384   |  0.032 |    0.263    |     1.575      |       5        |          0.026             |\n",
    "|     3     |   1       |  0.049 |    0.094    |     2.279      |       5        |          0.114             |\n",
    "|     4     |   1       |  0.049 |    0.094    |     2.282      |       5        |          0.114             |\n",
    "|     5     |   1       |  0.049 |    0.094    |     1.267      |       2        |          0.267             |\n",
    "|     6     |   1       |  0.049 |    0.094    |     2.525      |       4        |          0.282             |\n",
    "|     7     |   1       |  0.049 |    0.094    |     2.428      |       5        |          0.111             |\n",
    "|     11    |   1       |  0.049 |    0.094    |     2.144      |       4        |          0.138             |\n",
    "|     13    |   1       |  0.049 |    0.094    |     1.358      |       3        |          0.111             |\n",
    "|     14    |   1       |  0.049 |    0.094    |     1.443      |       4        |          0.091             |\n",
    "|     15    |   1       |  0.049 |    0.094    |     1.56       |       5        |          0.021             |\n",
    "|     16    |   1       |  0.049 |    0.094    |     1.117      |       2        |          0.117             |\n",
    "|     17    |   1       |  0.049 |    0.094    |     1.299      |       4        |          0.091             |\n",
    "|     18    |   1       |  0.049 |    0.094    |     2.563      |       5        |          0.111             |\n",
    "|     19    |   1       |  0.049 |    0.094    |     1.472      |       4        |          0.111             |\n",
    "\n"
   ]
  },
  {
   "cell_type": "markdown",
   "metadata": {},
   "source": [
    "#### Using 10 clusters\n",
    "| Annotator | Precision | Recall | Weighted F1 | Avg Importance | Max Importance | Proportion High Importance |\n",
    "|-----------|-----------|--------|-------------|----------------|----------------|----------------------------|\n",
    "|     8     |   0.856   | 0.583  |    0.706    |     2.486      |       5        |          0.009             |\n",
    "|     3     |   1       | 0.385  |    0.556    |     2.039      |       5        |          0.017             |\n",
    "|     4     |   1       | 0.385  |    0.556    |     2.124      |       5        |          0.017             |\n",
    "|     5     |   1       | 0.385  |    0.556    |     1.505      |       3        |          0.003             |\n",
    "|     6     |   1       | 0.385  |    0.556    |     2.135      |       5        |          0.027             |\n",
    "|     7     |   1       | 0.385  |    0.556    |     1.85       |       5        |          0.014             |\n",
    "|     11    |   1       | 0.385  |    0.556    |     2.12       |       5        |          0.023             |\n",
    "|     13    |   1       | 0.385  |    0.556    |     1.337      |       4        |          0.008             |\n",
    "|     14    |   1       | 0.385  |    0.556    |     1.738      |       5        |          0.084             |\n",
    "|     15    |   1       | 0.385  |    0.556    |     1.756      |       5        |          0.003             |\n",
    "|     16    |   1       | 0.385  |    0.556    |     1.363      |       4        |          0.007             |\n",
    "|     17    |   1       | 0.385  |    0.556    |     1.571      |       4        |          0.03              |\n",
    "|     18    |   1       | 0.385  |    0.556    |     2.139      |       5        |          0.014             |\n",
    "|     19    |   1       | 0.385  |    0.556    |     1.479      |       4        |          0.037             |\n",
    "|     12    |   0.624   | 0.439  |    0.543    |     2.105      |       5        |          0.039             |\n",
    "|     2     |   0.538   | 0.373  |    0.468    |     1.975      |       5        |          0.045             |\n",
    "|     10    |   0.389   | 0.262  |    0.337    |     1.718      |       5        |          0.008             |\n",
    "|     1     |   0.391   | 0.259  |    0.33     |     1.784      |       5        |          0.051             |\n",
    "|     0     |   0.331   | 0.226  |    0.299    |     1.646      |       5        |          0.084             |\n",
    "|     9     |   0.302   | 0.197  |    0.253    |     1.72       |       5        |          0.132             |\n",
    "\n"
   ]
  },
  {
   "cell_type": "markdown",
   "metadata": {},
   "source": [
    "#### Using 9 clusters 1.1m\n",
    "\n",
    "| Annotator | Precision | Recall | Weighted F1 | Avg Importance | Max Importance | Proportion High Importance |\n",
    "|-----------|-----------|--------|-------------|----------------|----------------|----------------------------|\n",
    "|     8     |   0.837   |  0.487 |    0.648    |     2.706      |       5        |          0.158             |\n",
    "|     3     |     1     |  0.33  |    0.496    |     1.934      |       5        |          0.024             |\n",
    "|     4     |     1     |  0.33  |    0.496    |     1.922      |       5        |          0.024             |\n",
    "|     5     |     1     |  0.33  |    0.496    |     1.313      |       2        |          0.313             |\n",
    "|     6     |     1     |  0.33  |    0.496    |     2.235      |       5        |          0.057             |\n",
    "|     7     |     1     |  0.33  |    0.496    |     1.859      |       5        |          0.017             |\n",
    "|     11    |     1     |  0.33  |    0.496    |     1.998      |       4        |          0.113             |\n",
    "|     13    |     1     |  0.33  |    0.496    |     1.187      |       3        |          0.025             |\n",
    "|     14    |     1     |  0.33  |    0.496    |     1.324      |       4        |          0.026             |\n",
    "|     15    |     1     |  0.33  |    0.496    |     1.602      |       5        |          0.026             |\n",
    "|     16    |     1     |  0.33  |    0.496    |     1.106      |       4        |          0.008             |\n",
    "|     17    |     1     |  0.33  |    0.496    |     1.293      |       4        |          0.026             |\n",
    "|     18    |     1     |  0.33  |    0.496    |     2.089      |       5        |          0.017             |\n",
    "|     19    |     1     |  0.33  |    0.496    |     1.64       |       5        |          0.026             |\n",
    "|     12    |   0.536   |  0.323 |    0.462    |     1.965      |       5        |          0.026             |\n",
    "|     2     |   0.416   |  0.247 |    0.373    |     1.655      |       5        |          0.026             |\n",
    "|     1     |   0.388   |  0.22  |    0.33     |     1.812      |       5        |          0.053             |\n",
    "|     10    |   0.344   |  0.198 |    0.308    |     1.519      |       4        |          0.017             |\n",
    "|     0     |   0.249   |  0.145 |    0.252    |     1.433      |       3        |          0.184             |\n",
    "|     9     |   0.283   |  0.158 |    0.252    |     1.442      |       5        |          0.045             |\n"
   ]
  },
  {
   "cell_type": "markdown",
   "metadata": {},
   "source": [
    "#### Using 7 clusters\n",
    "| Annotator | Precision | Recall | Weighted F1 | Avg Importance | Max Importance | Proportion High Importance |\n",
    "|-----------|-----------|--------|-------------|----------------|----------------|----------------------------|\n",
    "|     8     |   0.77    |  0.68  |    0.706    |     2.657      |       5        |          0.104             |\n",
    "|     3     |   1       |  0.5   |    0.666    |     2.002      |       5        |          0.017             |\n",
    "|     4     |   1       |  0.5   |    0.666    |     1.876      |       5        |          0.017             |\n",
    "|     5     |   1       |  0.5   |    0.666    |     1.444      |       3        |          0.002             |\n",
    "|     6     |   1       |  0.5   |    0.666    |     1.954      |       5        |          0.028             |\n",
    "|     7     |   1       |  0.5   |    0.666    |     1.887      |       5        |          0.017             |\n",
    "|     11    |   1       |  0.5   |    0.666    |     1.991      |       5        |          0.017             |\n",
    "|     13    |   1       |  0.5   |    0.666    |     1.518      |       3        |          0.155             |\n",
    "|     14    |   1       |  0.5   |    0.666    |     1.767      |       5        |          0.065             |\n",
    "|     15    |   1       |  0.5   |    0.666    |     2.054      |       5        |          0.033             |\n",
    "|     16    |   1       |  0.5   |    0.666    |     1.605      |       4        |          0.12              |\n",
    "|     17    |   1       |  0.5   |    0.666    |     1.603      |       4        |          0.017             |\n",
    "|     18    |   1       |  0.5   |    0.666    |     1.88       |       5        |          0.017             |\n",
    "|     19    |   1       |  0.5   |    0.666    |     1.865      |       5        |          0.017             |\n",
    "|     12    |   0.623   |  0.569 |    0.577    |     2.119      |       5        |          0.03              |\n",
    "|     2     |   0.468   |  0.421 |    0.415    |     1.871      |       5        |          0.039             |\n",
    "|     10    |   0.436   |  0.38  |    0.367    |     1.82       |       4        |          0.07              |\n",
    "|     1     |   0.432   |  0.371 |    0.355    |     1.893      |       5        |          0.069             |\n",
    "|     9     |   0.435   |  0.369 |    0.351    |     1.839      |       5        |          0.089             |\n",
    "|     0     |   0.333   |  0.295 |    0.272    |     1.666      |       5        |          0.065             |\n"
   ]
  },
  {
   "cell_type": "markdown",
   "metadata": {},
   "source": [
    "## Combined Features"
   ]
  },
  {
   "cell_type": "markdown",
   "metadata": {},
   "source": [
    "### All results was based on frame extraction with frame_rate=25"
   ]
  },
  {
   "cell_type": "markdown",
   "metadata": {},
   "source": [
    "#### Using 16 clusters\n"
   ]
  },
  {
   "cell_type": "markdown",
   "metadata": {},
   "source": [
    "#### Using 10 clusters\n"
   ]
  },
  {
   "cell_type": "markdown",
   "metadata": {},
   "source": [
    "#### Using             7 clusters\n",
    "\n"
   ]
  },
  {
   "cell_type": "markdown",
   "metadata": {},
   "source": [
    "### All results was based on frame extraction with frame_rate=1"
   ]
  },
  {
   "cell_type": "markdown",
   "metadata": {},
   "source": [
    "#### Using sqrt(N) = 83 clusters\n",
    "\n",
    "| Annotator | Precision | Recall | Weighted F1 | Avg Importance | Max Importance | Proportion High Importance |\n",
    "|-----------|-----------|--------|-------------|----------------|----------------|----------------------------|\n",
    "|     10    |     1     |  0.107 |    0.378    |     2.123      |       3        |          0.123             |\n",
    "|     9     |     1     |  0.104 |    0.36     |     2          |       2        |          1                 |\n",
    "|     8     |   0.825   |  0.089 |    0.359    |     2.65       |       3        |          0.825             |\n",
    "|     0     |   0.683   |  0.074 |    0.339    |     1.683      |       2        |          0.683             |\n",
    "|     1     |   0.757   |  0.08  |    0.332    |     2.506      |       4        |          0.135             |\n",
    "|     12    |   0.123   |  0.014 |    0.273    |     1.123      |       2        |          0.123             |\n",
    "|     2     |   0.123   |  0.014 |    0.265    |     1.123      |       2        |          0.123             |\n",
    "|     3     |     1     |  0.061 |    0.115    |     1.752      |       3        |          0.243             |\n",
    "|     4     |     1     |  0.061 |    0.115    |     1          |       1        |          1                 |\n",
    "|     5     |     1     |  0.061 |    0.115    |     1          |       1        |          1                 |\n",
    "|     6     |     1     |  0.061 |    0.115    |     1.369      |       4        |          0.123             |\n",
    "|     7     |     1     |  0.061 |    0.115    |     3          |       3        |          1                 |\n",
    "|     11    |     1     |  0.061 |    0.115    |     1.733      |       3        |          0.366             |\n",
    "|     13    |     1     |  0.061 |    0.115    |     1          |       1        |          1                 |\n",
    "|     14    |     1     |  0.061 |    0.115    |     1          |       1        |          1                 |\n",
    "|     15    |     1     |  0.061 |    0.115    |     1          |       1        |          1                 |\n",
    "|     16    |     1     |  0.061 |    0.115    |     3          |       3        |          1                 |\n",
    "|     17    |     1     |  0.061 |    0.115    |     2          |       2        |          1                 |\n",
    "|     18    |     1     |  0.061 |    0.115    |     1          |       1        |          1                 |\n",
    "|     19    |     1     |  0.061 |    0.115    |     1          |       1        |          1                 |\n"
   ]
  },
  {
   "cell_type": "markdown",
   "metadata": {},
   "source": [
    "#### Using 10 clusters\n",
    "| Annotator | Precision | Recall | Weighted F1 | Avg Importance | Max Importance | Proportion High Importance |\n",
    "|-----------|-----------|--------|-------------|----------------|----------------|----------------------------|\n",
    "|     3     |     1     |  0.528 |    0.691    |     1.994      |       5        |          0.015             |\n",
    "|     4     |     1     |  0.528 |    0.691    |     1.925      |       5        |          0.015             |\n",
    "|     5     |     1     |  0.528 |    0.691    |     1.844      |       4        |          0.115             |\n",
    "|     6     |     1     |  0.528 |    0.691    |     2.298      |       5        |          0.069             |\n",
    "|     7     |     1     |  0.528 |    0.691    |     1.762      |       5        |          0.01              |\n",
    "|     11    |     1     |  0.528 |    0.691    |     1.872      |       5        |          0.016             |\n",
    "|     13    |     1     |  0.528 |    0.691    |     1.839      |       5        |          0.033             |\n",
    "|     14    |     1     |  0.528 |    0.691    |     2.005      |       5        |          0.066             |\n",
    "|     15    |     1     |  0.528 |    0.691    |     2.012      |       5        |          0.016             |\n",
    "|     16    |     1     |  0.528 |    0.691    |     1.626      |       4        |          0.005             |\n",
    "|     17    |     1     |  0.528 |    0.691    |     1.941      |       4        |          0.088             |\n",
    "|     18    |     1     |  0.528 |    0.691    |     2.012      |       5        |          0.01              |\n",
    "|     19    |     1     |  0.528 |    0.691    |     2.122      |       5        |          0.049             |\n",
    "|     12    |   0.668   |  0.645 |    0.631    |     2.282      |       5        |          0.066             |\n",
    "|     8     |   0.683   |  0.638 |    0.629    |     2.319      |       5        |          0.099             |\n",
    "|     2     |   0.662   |  0.629 |    0.616    |     2.35       |       5        |          0.062             |\n",
    "|     0     |   0.569   |  0.533 |    0.51     |     2.046      |       5        |          0.066             |\n",
    "|     9     |   0.558   |  0.499 |    0.475    |     1.978      |       5        |          0.048             |\n",
    "|     1     |   0.509   |  0.462 |    0.432    |     2.093      |       5        |          0.066             |\n",
    "|     10    |   0.454   |  0.418 |    0.381    |     2.05       |       5        |          0.088             |\n"
   ]
  },
  {
   "cell_type": "markdown",
   "metadata": {},
   "source": [
    "#### Using 9 clusters 2m video\n",
    "\n",
    "| Annotator | Precision | Recall | Weighted F1 | Avg Importance | Max Importance | Proportion High Importance |\n",
    "|-----------|-----------|--------|-------------|----------------|----------------|----------------------------|\n",
    "|     3     |     1     |  0.543 |    0.704    |     2.018      |       5        |          0.032             |\n",
    "|     4     |     1     |  0.543 |    0.704    |     1.799      |       5        |          0.016             |\n",
    "|     5     |     1     |  0.543 |    0.704    |     1.828      |       4        |          0.112             |\n",
    "|     6     |     1     |  0.543 |    0.704    |     2.05       |       5        |          0.049             |\n",
    "|     7     |     1     |  0.543 |    0.704    |     1.755      |       5        |          0.016             |\n",
    "|     11    |     1     |  0.543 |    0.704    |     1.982      |       5        |          0.016             |\n",
    "|     13    |     1     |  0.543 |    0.704    |     1.738      |       4        |          0.048             |\n",
    "|     14    |     1     |  0.543 |    0.704    |     1.829      |       5        |          0.06              |\n",
    "|     15    |     1     |  0.543 |    0.704    |     1.899      |       5        |          0.027             |\n",
    "|     16    |     1     |  0.543 |    0.704    |     1.797      |       4        |          0.111             |\n",
    "|     17    |     1     |  0.543 |    0.704    |     1.762      |       4        |          0.016             |\n",
    "|     18    |     1     |  0.543 |    0.704    |     1.954      |       5        |          0.016             |\n",
    "|     19    |     1     |  0.543 |    0.704    |     1.865      |       5        |          0.014             |\n",
    "|     12    |   0.619   |  0.615 |    0.582    |     2.158      |       5        |          0.044             |\n",
    "|     8     |   0.612   |  0.588 |    0.557    |     2.189      |       5        |          0.032             |\n",
    "|     2     |   0.547   |  0.534 |    0.496    |     1.914      |       5        |          0.03              |\n",
    "|     10    |   0.554   |  0.525 |    0.487    |     2.226      |       5        |          0.064             |\n",
    "|     9     |   0.466   |  0.429 |    0.377    |     1.986      |       5        |          0.035             |\n",
    "|     1     |   0.447   |  0.417 |    0.363    |     1.815      |       5        |          0.051             |\n",
    "|     0     |   0.372   |  0.358 |    0.298    |     1.76       |       5        |          0.06              |\n"
   ]
  },
  {
   "cell_type": "markdown",
   "metadata": {},
   "source": [
    "#### Using 7 clusters 2.4m video\n",
    "\n",
    "| Annotator | Precision | Recall | Weighted F1 | Avg Importance | Max Importance | Proportion High Importance |\n",
    "|-----------|-----------|--------|-------------|----------------|----------------|----------------------------|\n",
    "|     3     |     1     |  0.7   |    0.823    |     1.966      |       5        |          0.025             |\n",
    "|     4     |     1     |  0.7   |    0.823    |     1.782      |       5        |          0.012             |\n",
    "|     5     |     1     |  0.7   |    0.823    |     1.692      |       4        |          0.087             |\n",
    "|     6     |     1     |  0.7   |    0.823    |     2.047      |       5        |          0.052             |\n",
    "|     7     |     1     |  0.7   |    0.823    |     2.026      |       5        |          0.012             |\n",
    "|     11    |     1     |  0.7   |    0.823    |     1.771      |       4        |          0.087             |\n",
    "|     13    |     1     |  0.7   |    0.823    |     1.833      |       5        |          0.025             |\n",
    "|     14    |     1     |  0.7   |    0.823    |     1.932      |       5        |          0.05              |\n",
    "|     15    |     1     |  0.7   |    0.823    |     1.78       |       5        |          0.024             |\n",
    "|     16    |     1     |  0.7   |    0.823    |     1.981      |       4        |          0.086             |\n",
    "|     17    |     1     |  0.7   |    0.823    |     1.925      |       4        |          0.062             |\n",
    "|     18    |     1     |  0.7   |    0.823    |     1.852      |       5        |          0.012             |\n",
    "|     19    |     1     |  0.7   |    0.823    |     1.977      |       5        |          0.037             |\n",
    "|     9     |   0.648   |  0.767 |    0.603    |     2.051      |       5        |          0.027             |\n",
    "|     8     |   0.612   |  0.757 |    0.575    |     2.153      |       5        |          0.074             |\n",
    "|     2     |   0.528   |  0.665 |    0.463    |     1.977      |       5        |          0.025             |\n",
    "|     10    |   0.521   |  0.636 |    0.437    |     1.993      |       5        |          0.062             |\n",
    "|     0     |   0.5     |  0.619 |    0.414    |     1.886      |       5        |          0.05              |\n",
    "|     1     |   0.497   |  0.598 |    0.393    |     2.028      |       5        |          0.062             |\n"
   ]
  }
 ],
 "metadata": {
  "kernelspec": {
   "display_name": "Python 3",
   "language": "python",
   "name": "python3"
  },
  "language_info": {
   "codemirror_mode": {
    "name": "ipython",
    "version": 3
   },
   "file_extension": ".py",
   "mimetype": "text/x-python",
   "name": "python",
   "nbconvert_exporter": "python",
   "pygments_lexer": "ipython3",
   "version": "3.11.3"
  }
 },
 "nbformat": 4,
 "nbformat_minor": 2
}
