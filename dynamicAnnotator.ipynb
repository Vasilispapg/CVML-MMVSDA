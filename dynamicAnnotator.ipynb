{
 "cells": [
  {
   "cell_type": "code",
   "execution_count": 8,
   "metadata": {},
   "outputs": [],
   "source": [
    "import os\n",
    "import cv2\n",
    "import numpy as np\n"
   ]
  },
  {
   "cell_type": "markdown",
   "metadata": {},
   "source": [
    "### 1. Extract Frames from Video\n"
   ]
  },
  {
   "cell_type": "code",
   "execution_count": 9,
   "metadata": {},
   "outputs": [],
   "source": [
    "def extract_frames(video_path):\n",
    "    cap = cv2.VideoCapture(video_path)\n",
    "    frames = []\n",
    "    while cap.isOpened():\n",
    "        ret, frame = cap.read()\n",
    "        if not ret:\n",
    "            break\n",
    "        frames.append(frame)\n",
    "    cap.release()\n",
    "    return frames\n"
   ]
  },
  {
   "cell_type": "markdown",
   "metadata": {},
   "source": [
    "### 2. Remove Duplicate Frames\n"
   ]
  },
  {
   "cell_type": "code",
   "execution_count": 10,
   "metadata": {},
   "outputs": [],
   "source": [
    "\n",
    "def mse(imageA, imageB):\n",
    "    # Compute the mean squared error between the two images\n",
    "    err = np.sum((imageA.astype(\"float\") - imageB.astype(\"float\")) ** 2)\n",
    "    err /= float(imageA.shape[0] * imageA.shape[1])\n",
    "    return err\n",
    "\n",
    "def remove_duplicates(frames, threshold=1000):\n",
    "    unique_frames = []\n",
    "    for i in range(len(frames) - 1):\n",
    "        if mse(frames[i], frames[i + 1]) > threshold:\n",
    "            unique_frames.append(frames[i])\n",
    "    unique_frames.append(frames[-1])  # Always add the last frame\n",
    "    return unique_frames\n"
   ]
  },
  {
   "cell_type": "markdown",
   "metadata": {},
   "source": [
    "### "
   ]
  },
  {
   "cell_type": "markdown",
   "metadata": {},
   "source": [
    "### 3. Object Detection on Frames\n"
   ]
  },
  {
   "cell_type": "code",
   "execution_count": 11,
   "metadata": {},
   "outputs": [],
   "source": [
    "def perform_object_detection(frames, yolo_model, conf_threshold=0.5, nms_threshold=0.4):\n",
    "    detections = []\n",
    "    for frame in frames:\n",
    "        # YOLO model requires input images in a specific format\n",
    "        blob = cv2.dnn.blobFromImage(frame, 1 / 255.0, (416, 416), swapRB=True, crop=False)\n",
    "        yolo_model.setInput(blob)\n",
    "\n",
    "        # Getting the names of all layers\n",
    "        layer_names = yolo_model.getLayerNames()\n",
    "        # Extracting the names of the output layers\n",
    "        output_layers = [layer_names[i[0] - 1] for i in yolo_model.getUnconnectedOutLayers()]\n",
    "\n",
    "        # Forward pass\n",
    "        layer_outputs = yolo_model.forward(output_layers)\n",
    "\n",
    "        # Initialization for each frame's detection\n",
    "        frame_detections = []\n",
    "\n",
    "        # Each layer's output\n",
    "        for output in layer_outputs:\n",
    "            # Each detection in the output\n",
    "            for detection in output:\n",
    "                scores = detection[5:]\n",
    "                class_id = np.argmax(scores)\n",
    "                confidence = scores[class_id]\n",
    "\n",
    "                # Filtering out weak predictions\n",
    "                if confidence > conf_threshold:\n",
    "                    # Object detected\n",
    "                    center_x, center_y, width, height = detection[0:4] * np.array([frame.shape[1], frame.shape[0], frame.shape[1], frame.shape[0]])\n",
    "                    x = int(center_x - (width / 2))\n",
    "                    y = int(center_y - (height / 2))\n",
    "\n",
    "                    # Adding the valid detections to the frame's list\n",
    "                    frame_detections.append({'class_id': class_id, 'confidence': float(confidence), 'box': [x, y, int(width), int(height)]})\n",
    "\n",
    "        # Non-Max Suppression\n",
    "        indices = cv2.dnn.NMSBoxes([d['box'] for d in frame_detections], [d['confidence'] for d in frame_detections], conf_threshold, nms_threshold)\n",
    "\n",
    "        # Final filtered detections for the frame\n",
    "        final_detections = [frame_detections[i[0]] for i in indices]\n",
    "        detections.append(final_detections)\n",
    "\n",
    "    return detections\n"
   ]
  },
  {
   "cell_type": "markdown",
   "metadata": {},
   "source": [
    "### 4. Generate Annotation File\n"
   ]
  },
  {
   "cell_type": "code",
   "execution_count": 12,
   "metadata": {},
   "outputs": [],
   "source": [
    "import pandas as pd\n",
    "\n",
    "def generate_annotation_file(detections, output_dir, video_id):\n",
    "    annotations = []\n",
    "    for frame_index, frame_detections in enumerate(detections):\n",
    "        for det in frame_detections:\n",
    "            # det might include: class, confidence, bbox coordinates\n",
    "            annotations.append([video_id, frame_index, det['class'], det['confidence'], det['bbox']])\n",
    "    df = pd.DataFrame(annotations, columns=['video_id', 'frame', 'class', 'confidence', 'bbox'])\n",
    "    file_path = os.path.join(output_dir, f\"{video_id}_annotations.csv\")\n",
    "    df.to_csv(file_path, index=False)\n",
    "    return file_path\n"
   ]
  },
  {
   "cell_type": "markdown",
   "metadata": {},
   "source": [
    "### 5.Generate Information File\n"
   ]
  },
  {
   "cell_type": "code",
   "execution_count": 13,
   "metadata": {},
   "outputs": [],
   "source": [
    "def generate_information_file(video_path, output_dir, video_id):\n",
    "    cap = cv2.VideoCapture(video_path)\n",
    "    fps = cap.get(cv2.CAP_PROP_FPS)\n",
    "    total_frames = int(cap.get(cv2.CAP_PROP_FRAME_COUNT))\n",
    "    duration = total_frames / fps\n",
    "    cap.release()\n",
    "\n",
    "    info = {\n",
    "        'video_id': video_id,\n",
    "        'fps': fps,\n",
    "        'total_frames': total_frames,\n",
    "        'duration': duration\n",
    "    }\n",
    "    df = pd.DataFrame([info])\n",
    "    file_path = os.path.join(output_dir, f\"{video_id}_info.csv\")\n",
    "    df.to_csv(file_path, index=False)\n",
    "    return file_path\n"
   ]
  },
  {
   "cell_type": "markdown",
   "metadata": {},
   "source": [
    "## Proccess Video Function"
   ]
  },
  {
   "cell_type": "code",
   "execution_count": 14,
   "metadata": {},
   "outputs": [],
   "source": [
    "def process_video(video_path, yolo_model, output_dir, video_id):\n",
    "    \"\"\"\n",
    "    Process a video file to perform object detection and generate annotation and information files.\n",
    "\n",
    "    :param video_path: Path to the video file.\n",
    "    :param yolo_model: Pre-loaded YOLO model for object detection.\n",
    "    :param output_dir: Directory to save the output files.\n",
    "    :param video_id: A unique identifier for the video.\n",
    "    :return: Paths to the generated annotation and information files.\n",
    "    \"\"\"\n",
    "    # Step 1: Extract Frames from Video\n",
    "    frames = extract_frames(video_path)\n",
    "\n",
    "    # Step 2: Remove Duplicate Frames\n",
    "    unique_frames = remove_duplicates(frames)\n",
    "\n",
    "    # Step 3: Object Detection on Frames\n",
    "    detections = perform_object_detection(unique_frames, yolo_model)\n",
    "\n",
    "    # Step 4: Generate Annotation File\n",
    "    annotation_file_path = generate_annotation_file(detections, output_dir, video_id)\n",
    "\n",
    "    # Step 5: Generate Information File\n",
    "    info_file_path = generate_information_file(video_path, output_dir, video_id)\n",
    "\n",
    "    return annotation_file_path, info_file_path\n"
   ]
  },
  {
   "cell_type": "code",
   "execution_count": 15,
   "metadata": {},
   "outputs": [
    {
     "ename": "IndexError",
     "evalue": "invalid index to scalar variable.",
     "output_type": "error",
     "traceback": [
      "\u001b[1;31m---------------------------------------------------------------------------\u001b[0m",
      "\u001b[1;31mIndexError\u001b[0m                                Traceback (most recent call last)",
      "\u001b[1;32md:\\AUTH\\computer vision\\UnsupervisedVideoSummarization\\dynamicAnnotator.ipynb Cell 15\u001b[0m line \u001b[0;36m7\n\u001b[0;32m      <a href='vscode-notebook-cell:/d%3A/AUTH/computer%20vision/UnsupervisedVideoSummarization/dynamicAnnotator.ipynb#X23sZmlsZQ%3D%3D?line=3'>4</a>\u001b[0m video_path \u001b[39m=\u001b[39m \u001b[39m'\u001b[39m\u001b[39mdatasets/ydata-tvsum50-v1_1/video/_xMr-HKMfVA.mp4\u001b[39m\u001b[39m'\u001b[39m\n\u001b[0;32m      <a href='vscode-notebook-cell:/d%3A/AUTH/computer%20vision/UnsupervisedVideoSummarization/dynamicAnnotator.ipynb#X23sZmlsZQ%3D%3D?line=4'>5</a>\u001b[0m video_id \u001b[39m=\u001b[39m \u001b[39m'\u001b[39m\u001b[39m1\u001b[39m\u001b[39m'\u001b[39m\n\u001b[1;32m----> <a href='vscode-notebook-cell:/d%3A/AUTH/computer%20vision/UnsupervisedVideoSummarization/dynamicAnnotator.ipynb#X23sZmlsZQ%3D%3D?line=6'>7</a>\u001b[0m annotation_path, info_path \u001b[39m=\u001b[39m process_video(video_path, yolo_model, output_dir, video_id)\n",
      "\u001b[1;32md:\\AUTH\\computer vision\\UnsupervisedVideoSummarization\\dynamicAnnotator.ipynb Cell 15\u001b[0m line \u001b[0;36m1\n\u001b[0;32m     <a href='vscode-notebook-cell:/d%3A/AUTH/computer%20vision/UnsupervisedVideoSummarization/dynamicAnnotator.ipynb#X23sZmlsZQ%3D%3D?line=14'>15</a>\u001b[0m unique_frames \u001b[39m=\u001b[39m remove_duplicates(frames)\n\u001b[0;32m     <a href='vscode-notebook-cell:/d%3A/AUTH/computer%20vision/UnsupervisedVideoSummarization/dynamicAnnotator.ipynb#X23sZmlsZQ%3D%3D?line=16'>17</a>\u001b[0m \u001b[39m# Step 3: Object Detection on Frames\u001b[39;00m\n\u001b[1;32m---> <a href='vscode-notebook-cell:/d%3A/AUTH/computer%20vision/UnsupervisedVideoSummarization/dynamicAnnotator.ipynb#X23sZmlsZQ%3D%3D?line=17'>18</a>\u001b[0m detections \u001b[39m=\u001b[39m perform_object_detection(unique_frames, yolo_model)\n\u001b[0;32m     <a href='vscode-notebook-cell:/d%3A/AUTH/computer%20vision/UnsupervisedVideoSummarization/dynamicAnnotator.ipynb#X23sZmlsZQ%3D%3D?line=19'>20</a>\u001b[0m \u001b[39m# Step 4: Generate Annotation File\u001b[39;00m\n\u001b[0;32m     <a href='vscode-notebook-cell:/d%3A/AUTH/computer%20vision/UnsupervisedVideoSummarization/dynamicAnnotator.ipynb#X23sZmlsZQ%3D%3D?line=20'>21</a>\u001b[0m annotation_file_path \u001b[39m=\u001b[39m generate_annotation_file(detections, output_dir, video_id)\n",
      "\u001b[1;32md:\\AUTH\\computer vision\\UnsupervisedVideoSummarization\\dynamicAnnotator.ipynb Cell 15\u001b[0m line \u001b[0;36m1\n\u001b[0;32m      <a href='vscode-notebook-cell:/d%3A/AUTH/computer%20vision/UnsupervisedVideoSummarization/dynamicAnnotator.ipynb#X23sZmlsZQ%3D%3D?line=8'>9</a>\u001b[0m layer_names \u001b[39m=\u001b[39m yolo_model\u001b[39m.\u001b[39mgetLayerNames()\n\u001b[0;32m     <a href='vscode-notebook-cell:/d%3A/AUTH/computer%20vision/UnsupervisedVideoSummarization/dynamicAnnotator.ipynb#X23sZmlsZQ%3D%3D?line=9'>10</a>\u001b[0m \u001b[39m# Extracting the names of the output layers\u001b[39;00m\n\u001b[1;32m---> <a href='vscode-notebook-cell:/d%3A/AUTH/computer%20vision/UnsupervisedVideoSummarization/dynamicAnnotator.ipynb#X23sZmlsZQ%3D%3D?line=10'>11</a>\u001b[0m output_layers \u001b[39m=\u001b[39m [layer_names[i[\u001b[39m0\u001b[39;49m] \u001b[39m-\u001b[39;49m \u001b[39m1\u001b[39;49m] \u001b[39mfor\u001b[39;49;00m i \u001b[39min\u001b[39;49;00m yolo_model\u001b[39m.\u001b[39;49mgetUnconnectedOutLayers()]\n\u001b[0;32m     <a href='vscode-notebook-cell:/d%3A/AUTH/computer%20vision/UnsupervisedVideoSummarization/dynamicAnnotator.ipynb#X23sZmlsZQ%3D%3D?line=12'>13</a>\u001b[0m \u001b[39m# Forward pass\u001b[39;00m\n\u001b[0;32m     <a href='vscode-notebook-cell:/d%3A/AUTH/computer%20vision/UnsupervisedVideoSummarization/dynamicAnnotator.ipynb#X23sZmlsZQ%3D%3D?line=13'>14</a>\u001b[0m layer_outputs \u001b[39m=\u001b[39m yolo_model\u001b[39m.\u001b[39mforward(output_layers)\n",
      "\u001b[1;32md:\\AUTH\\computer vision\\UnsupervisedVideoSummarization\\dynamicAnnotator.ipynb Cell 15\u001b[0m line \u001b[0;36m1\n\u001b[0;32m      <a href='vscode-notebook-cell:/d%3A/AUTH/computer%20vision/UnsupervisedVideoSummarization/dynamicAnnotator.ipynb#X23sZmlsZQ%3D%3D?line=8'>9</a>\u001b[0m layer_names \u001b[39m=\u001b[39m yolo_model\u001b[39m.\u001b[39mgetLayerNames()\n\u001b[0;32m     <a href='vscode-notebook-cell:/d%3A/AUTH/computer%20vision/UnsupervisedVideoSummarization/dynamicAnnotator.ipynb#X23sZmlsZQ%3D%3D?line=9'>10</a>\u001b[0m \u001b[39m# Extracting the names of the output layers\u001b[39;00m\n\u001b[1;32m---> <a href='vscode-notebook-cell:/d%3A/AUTH/computer%20vision/UnsupervisedVideoSummarization/dynamicAnnotator.ipynb#X23sZmlsZQ%3D%3D?line=10'>11</a>\u001b[0m output_layers \u001b[39m=\u001b[39m [layer_names[i[\u001b[39m0\u001b[39;49m] \u001b[39m-\u001b[39m \u001b[39m1\u001b[39m] \u001b[39mfor\u001b[39;00m i \u001b[39min\u001b[39;00m yolo_model\u001b[39m.\u001b[39mgetUnconnectedOutLayers()]\n\u001b[0;32m     <a href='vscode-notebook-cell:/d%3A/AUTH/computer%20vision/UnsupervisedVideoSummarization/dynamicAnnotator.ipynb#X23sZmlsZQ%3D%3D?line=12'>13</a>\u001b[0m \u001b[39m# Forward pass\u001b[39;00m\n\u001b[0;32m     <a href='vscode-notebook-cell:/d%3A/AUTH/computer%20vision/UnsupervisedVideoSummarization/dynamicAnnotator.ipynb#X23sZmlsZQ%3D%3D?line=13'>14</a>\u001b[0m layer_outputs \u001b[39m=\u001b[39m yolo_model\u001b[39m.\u001b[39mforward(output_layers)\n",
      "\u001b[1;31mIndexError\u001b[0m: invalid index to scalar variable."
     ]
    }
   ],
   "source": [
    "yolo_model = cv2.dnn.readNetFromDarknet('yolo/yolov3.cfg', 'yolo/yolov3.weights')\n",
    "\n",
    "output_dir = 'datasets/summary_videos'\n",
    "video_path = 'datasets/ydata-tvsum50-v1_1/video/_xMr-HKMfVA.mp4'\n",
    "video_id = '1'\n",
    "\n",
    "annotation_path, info_path = process_video(video_path, yolo_model, output_dir, video_id)"
   ]
  }
 ],
 "metadata": {
  "kernelspec": {
   "display_name": "Python 3",
   "language": "python",
   "name": "python3"
  },
  "language_info": {
   "codemirror_mode": {
    "name": "ipython",
    "version": 3
   },
   "file_extension": ".py",
   "mimetype": "text/x-python",
   "name": "python",
   "nbconvert_exporter": "python",
   "pygments_lexer": "ipython3",
   "version": "3.11.3"
  }
 },
 "nbformat": 4,
 "nbformat_minor": 2
}
